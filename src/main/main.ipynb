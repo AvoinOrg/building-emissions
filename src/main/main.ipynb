{
 "cells": [
  {
   "cell_type": "code",
   "execution_count": 62,
   "id": "fc54b6cc-1d4c-4dfb-a818-3e7fd67022ba",
   "metadata": {},
   "outputs": [],
   "source": [
    "import pandas as pd\n",
    "import importlib as il\n",
    "import sys, os\n",
    "\n",
    "src = os.path.abspath(os.path.join('..', '..', 'src'))\n",
    "sys.path.append(src)\n",
    "\n",
    "# project modules\n",
    "import ingest.ingest as ing\n",
    "import modules.aggregate as agg\n",
    "import modules.calculate as calc\n",
    "from modules.helpers import show_all, print_na"
   ]
  },
  {
   "cell_type": "code",
   "execution_count": 2,
   "id": "3f03c0ef-e11e-4f2b-b654-b2e2e783af6f",
   "metadata": {},
   "outputs": [],
   "source": [
    "v_print_na = False # Toggels print rows with na values at each stage of building the dataset\n",
    "quiet_read_in = True # Toggels quiet mode for reading in data to notebook \n",
    "verbose_read_in = False  # Toggels verbose mode for reading in data to notebook "
   ]
  },
  {
   "cell_type": "code",
   "execution_count": 3,
   "id": "d40a27cc-31e1-4ac2-a970-10e032880cbb",
   "metadata": {},
   "outputs": [],
   "source": [
    "data_dir = '../ingest/data_in/'\n",
    "schema_in_file = '../ingest/schema.json'\n",
    "ingest = ing.Ingest(schema_in_file)\n",
    "parsed_datasets = ingest.read_and_parse(data_dir, v=verbose_read_in, q=quiet_read_in)"
   ]
  },
  {
   "cell_type": "code",
   "execution_count": 4,
   "id": "5c24d60f-6ea6-4935-bb87-7c52a3976f89",
   "metadata": {},
   "outputs": [
    {
     "name": "stdout",
     "output_type": "stream",
     "text": [
      "Imported datasets:\n",
      " ['areas_countries_data', 'areas_zones_data', 'building_statistics_fin', 'climatetrace_countries', 'countries_data', 'heating_demand_data', 'manual_continents_data', 'ne_countries_continents', 'on_site_heat_data']\n"
     ]
    }
   ],
   "source": [
    "print('Imported datasets:\\n', ingest.ds_names)"
   ]
  },
  {
   "cell_type": "code",
   "execution_count": 5,
   "id": "6b18b79f-4d1b-4fb6-a444-cb9e545b6171",
   "metadata": {},
   "outputs": [],
   "source": [
    "areas_countries_data = parsed_datasets['areas_countries_data']\n",
    "areas_zones_data = parsed_datasets['areas_zones_data']\n",
    "building_statistics_fin = parsed_datasets['building_statistics_fin']\n",
    "climatetrace_countries = parsed_datasets['climatetrace_countries']\n",
    "countries_data = parsed_datasets['countries_data']\n",
    "heating_demand_data = parsed_datasets['heating_demand_data']\n",
    "manual_continents_data = parsed_datasets['manual_continents_data']\n",
    "ne_countries_continents = parsed_datasets['ne_countries_continents']\n",
    "on_site_heat_data = parsed_datasets['on_site_heat_data']"
   ]
  },
  {
   "cell_type": "code",
   "execution_count": 6,
   "id": "12eddbfd-1411-4451-834f-a9160feb6590",
   "metadata": {},
   "outputs": [],
   "source": [
    "# combines continents is a full list of countries codes and continents\n",
    "combined_continents = agg.Aggregate.combine_continents(ne_countries_continents, manual_continents_data, columns=['iso3_code'])\n",
    "# Uncomment the following lines to see the dataset at this stage\n",
    "#combined_continents.info()\n",
    "#show_all(combined_continents.sort_values('iso3_code'))"
   ]
  },
  {
   "cell_type": "code",
   "execution_count": 7,
   "id": "c352647d-f898-4a6b-bb75-97ea9117f3f1",
   "metadata": {},
   "outputs": [
    {
     "name": "stdout",
     "output_type": "stream",
     "text": [
      "Heated floor area factors columns:\n",
      " ['continent_name', 'oheg_factor', 'hfa_factor', 'ohfa_factor']\n",
      "\n",
      "Number of NA values in new column ohfa_factor:\n",
      " 0\n",
      "***\n"
     ]
    }
   ],
   "source": [
    "# based on the continent information, heated floor area factors are added\n",
    "print('Heated floor area factors columns:\\n',list(on_site_heat_data.columns))\n",
    "# we are interested in the 'ohfa_factor', that is \"On-site heated floor area factor,\n",
    "# the percentage of non-district heated floor area, product of oheg and hfa\"\n",
    "\n",
    "df = combined_continents\n",
    "other = on_site_heat_data\n",
    "on = 'continent_name'\n",
    "cols = ['ohfa_factor']\n",
    "ohfa_factor_countries = agg.Aggregate.add_cols(df, other, on=on, cols=cols)\n",
    "print_na(ohfa_factor_countries, cols, v=v_print_na)\n",
    "# Uncomment the following lines to see the dataset at this stage\n",
    "#ohfa_factor_countries.info()\n",
    "#show_all(ohfa_factor_countries.sort_values('iso3_code'))"
   ]
  },
  {
   "cell_type": "code",
   "execution_count": 8,
   "id": "2df5a46e-d96e-40e1-97e3-0d68c0d2a888",
   "metadata": {},
   "outputs": [
    {
     "name": "stdout",
     "output_type": "stream",
     "text": [
      "\n",
      "Number of NA values in new column continent_name:\n",
      " 3\n",
      "***\n",
      "\n",
      "Number of NA values in new column ohfa_factor:\n",
      " 3\n",
      "***\n"
     ]
    }
   ],
   "source": [
    "# The country list is reconciled with the Climate Trace country list\n",
    "df = climatetrace_countries\n",
    "other = ohfa_factor_countries\n",
    "on = 'iso3_code'\n",
    "cols = ['continent_name', 'ohfa_factor']\n",
    "meta_countries = agg.Aggregate.add_cols(df, other, on=on, cols=cols)\n",
    "print_na(meta_countries, cols, v=v_print_na)\n",
    "# Uncomment the following lines to see the dataset at this stage\n",
    "#meta_countries.info()\n",
    "#show_all(meta_countries.sort_values('iso3_code'))"
   ]
  },
  {
   "cell_type": "code",
   "execution_count": 9,
   "id": "e0803518-1c3d-447e-8604-422c12472f9f",
   "metadata": {},
   "outputs": [
    {
     "name": "stdout",
     "output_type": "stream",
     "text": [
      "\n",
      "Number of NA values in new column m2_area:\n",
      " 4\n",
      "***\n"
     ]
    }
   ],
   "source": [
    "# Country metadata is added: country area (m2_area),\n",
    "\n",
    "df = meta_countries\n",
    "other = areas_countries_data\n",
    "on = 'iso3_code'\n",
    "cols = ['m2_area']\n",
    "meta_countries = agg.Aggregate.add_cols(df, other, on=on, cols=cols)\n",
    "print_na(meta_countries, cols, v=v_print_na)\n",
    "# Uncomment the following lines to see the dataset at this stage\n",
    "#meta_countries.info()\n",
    "#show_all(meta_countries.sort_values('iso3_code'))"
   ]
  },
  {
   "cell_type": "code",
   "execution_count": 10,
   "id": "610a9ee5-da1a-452e-9185-d8dd4976e412",
   "metadata": {},
   "outputs": [
    {
     "name": "stdout",
     "output_type": "stream",
     "text": [
      "\n",
      "Number of NA values in new column pop_density:\n",
      " 3\n",
      "***\n",
      "\n",
      "Number of NA values in new column emission_factor:\n",
      " 3\n",
      "***\n"
     ]
    }
   ],
   "source": [
    "# Country metadata is added:\n",
    "# population density (pop_density) \n",
    "# and emission factors (emission_factor): Emission factor in tonnes CO2 per GWh\n",
    "\n",
    "df = meta_countries\n",
    "other = countries_data\n",
    "on = 'iso3_code'\n",
    "cols = ['pop_density', 'emission_factor']\n",
    "meta_countries = agg.Aggregate.add_cols(df, other, on=on, cols=cols)\n",
    "print_na(meta_countries, cols, v=v_print_na)\n",
    "# Uncomment the following lines to see the dataset at this stage\n",
    "#meta_countries.info()\n",
    "#show_all(meta_countries.sort_values('iso3_code'))"
   ]
  },
  {
   "cell_type": "code",
   "execution_count": 11,
   "id": "92c0eec2-4f0b-40fa-a467-c7ac3b47902b",
   "metadata": {},
   "outputs": [],
   "source": [
    "# Building statisticts are added:\n",
    "\n",
    "year = 2019\n",
    "data = building_statistics_fin[building_statistics_fin['observation_year'] == year]['gross_floor_area']\n",
    "col_name = 'building_statistics_fin_' + str(year)\n",
    "col = [data.values[0] for i in range(len(meta_countries))]\n",
    "meta_countries[col_name] = col\n",
    "# Uncomment the following lines to see the dataset at this stage\n",
    "#meta_countries.info()\n",
    "#show_all(meta_countries.sort_values('iso3_code'))"
   ]
  },
  {
   "cell_type": "code",
   "execution_count": 12,
   "id": "35f4ac66-6ef5-45c9-9bc8-307323b10c5b",
   "metadata": {},
   "outputs": [
    {
     "name": "stdout",
     "output_type": "stream",
     "text": [
      "\n",
      "Number of NA values in new column climate_zone:\n",
      " 37\n",
      "***\n",
      "\n",
      "Number of NA values in new column m2_area:\n",
      " 37\n",
      "***\n"
     ]
    }
   ],
   "source": [
    "# Climate zone areas are added\n",
    "\n",
    "df = meta_countries.rename(columns={'m2_area': 'country_area'})\n",
    "other = areas_zones_data\n",
    "on = 'iso3_code'\n",
    "cols = ['climate_zone', 'm2_area']\n",
    "zoned_countries = agg.Aggregate.add_cols(df, other, on=on, cols=cols)\n",
    "print_na(zoned_countries, cols, v=v_print_na)\n",
    "# Uncomment the following lines to see the dataset at this stage\n",
    "#zoned_countries.info()\n",
    "#show_all(zoned_countries.sort_values('iso3_code'))"
   ]
  },
  {
   "cell_type": "code",
   "execution_count": 13,
   "id": "33e532c7-45eb-49e7-93c9-0f463a4302bd",
   "metadata": {},
   "outputs": [
    {
     "name": "stdout",
     "output_type": "stream",
     "text": [
      "\n",
      "Number of NA values in new column heating_demand_factor:\n",
      " 37\n",
      "***\n"
     ]
    }
   ],
   "source": [
    "# Heating demand data is added based on climate zones\n",
    "\n",
    "df = zoned_countries\n",
    "other = heating_demand_data\n",
    "on = 'climate_zone'\n",
    "cols = ['heating_demand_factor']\n",
    "demand_factor_countries = agg.Aggregate.add_cols(df, other, on=on, cols=cols)\n",
    "print_na(demand_factor_countries, cols, v=v_print_na)\n",
    "# Uncomment the following lines to see the dataset at this stage\n",
    "#demand_factor_countries.info()\n",
    "#show_all(demand_factor_countries.sort_values('iso3_code'))"
   ]
  },
  {
   "cell_type": "code",
   "execution_count": 18,
   "id": "3fe3a7c5-3543-4652-9678-fa905e9f6cd3",
   "metadata": {},
   "outputs": [
    {
     "data": {
      "text/html": [
       "<div>\n",
       "<style scoped>\n",
       "    .dataframe tbody tr th:only-of-type {\n",
       "        vertical-align: middle;\n",
       "    }\n",
       "\n",
       "    .dataframe tbody tr th {\n",
       "        vertical-align: top;\n",
       "    }\n",
       "\n",
       "    .dataframe thead th {\n",
       "        text-align: right;\n",
       "    }\n",
       "</style>\n",
       "<table border=\"1\" class=\"dataframe\">\n",
       "  <thead>\n",
       "    <tr style=\"text-align: right;\">\n",
       "      <th></th>\n",
       "      <th>country_name</th>\n",
       "      <th>iso3_code</th>\n",
       "      <th>continent_name</th>\n",
       "      <th>ohfa_factor</th>\n",
       "      <th>country_area</th>\n",
       "      <th>pop_density</th>\n",
       "      <th>emission_factor</th>\n",
       "      <th>building_statistics_fin_2019</th>\n",
       "      <th>climate_zone</th>\n",
       "      <th>m2_area</th>\n",
       "      <th>heating_demand_factor</th>\n",
       "    </tr>\n",
       "  </thead>\n",
       "  <tbody>\n",
       "    <tr>\n",
       "      <th>0</th>\n",
       "      <td>Aruba</td>\n",
       "      <td>ABW</td>\n",
       "      <td>North America</td>\n",
       "      <td>0.63</td>\n",
       "      <td>1.819384e+08</td>\n",
       "      <td>0.000624</td>\n",
       "      <td>199.4</td>\n",
       "      <td>494625956.0</td>\n",
       "      <td>1.0</td>\n",
       "      <td>1.238305e+08</td>\n",
       "      <td>0.000020</td>\n",
       "    </tr>\n",
       "    <tr>\n",
       "      <th>1</th>\n",
       "      <td>Afghanistan</td>\n",
       "      <td>AFG</td>\n",
       "      <td>Asia</td>\n",
       "      <td>0.56</td>\n",
       "      <td>6.438580e+11</td>\n",
       "      <td>0.000049</td>\n",
       "      <td>199.4</td>\n",
       "      <td>494625956.0</td>\n",
       "      <td>3.0</td>\n",
       "      <td>6.228012e+11</td>\n",
       "      <td>0.000052</td>\n",
       "    </tr>\n",
       "    <tr>\n",
       "      <th>1</th>\n",
       "      <td>Afghanistan</td>\n",
       "      <td>AFG</td>\n",
       "      <td>Asia</td>\n",
       "      <td>0.56</td>\n",
       "      <td>6.438580e+11</td>\n",
       "      <td>0.000049</td>\n",
       "      <td>199.4</td>\n",
       "      <td>494625956.0</td>\n",
       "      <td>2.0</td>\n",
       "      <td>1.948273e+10</td>\n",
       "      <td>0.000023</td>\n",
       "    </tr>\n",
       "    <tr>\n",
       "      <th>1</th>\n",
       "      <td>Afghanistan</td>\n",
       "      <td>AFG</td>\n",
       "      <td>Asia</td>\n",
       "      <td>0.56</td>\n",
       "      <td>6.438580e+11</td>\n",
       "      <td>0.000049</td>\n",
       "      <td>199.4</td>\n",
       "      <td>494625956.0</td>\n",
       "      <td>5.0</td>\n",
       "      <td>1.573999e+09</td>\n",
       "      <td>0.000160</td>\n",
       "    </tr>\n",
       "    <tr>\n",
       "      <th>2</th>\n",
       "      <td>Angola</td>\n",
       "      <td>AGO</td>\n",
       "      <td>Africa</td>\n",
       "      <td>0.45</td>\n",
       "      <td>1.247422e+12</td>\n",
       "      <td>0.000023</td>\n",
       "      <td>199.4</td>\n",
       "      <td>494625956.0</td>\n",
       "      <td>1.0</td>\n",
       "      <td>1.237890e+12</td>\n",
       "      <td>0.000020</td>\n",
       "    </tr>\n",
       "    <tr>\n",
       "      <th>...</th>\n",
       "      <td>...</td>\n",
       "      <td>...</td>\n",
       "      <td>...</td>\n",
       "      <td>...</td>\n",
       "      <td>...</td>\n",
       "      <td>...</td>\n",
       "      <td>...</td>\n",
       "      <td>...</td>\n",
       "      <td>...</td>\n",
       "      <td>...</td>\n",
       "      <td>...</td>\n",
       "    </tr>\n",
       "    <tr>\n",
       "      <th>249</th>\n",
       "      <td>South Africa</td>\n",
       "      <td>ZAF</td>\n",
       "      <td>Africa</td>\n",
       "      <td>0.45</td>\n",
       "      <td>1.219709e+12</td>\n",
       "      <td>0.000048</td>\n",
       "      <td>199.4</td>\n",
       "      <td>494625956.0</td>\n",
       "      <td>3.0</td>\n",
       "      <td>1.683765e+11</td>\n",
       "      <td>0.000052</td>\n",
       "    </tr>\n",
       "    <tr>\n",
       "      <th>249</th>\n",
       "      <td>South Africa</td>\n",
       "      <td>ZAF</td>\n",
       "      <td>Africa</td>\n",
       "      <td>0.45</td>\n",
       "      <td>1.219709e+12</td>\n",
       "      <td>0.000048</td>\n",
       "      <td>199.4</td>\n",
       "      <td>494625956.0</td>\n",
       "      <td>1.0</td>\n",
       "      <td>1.458865e+11</td>\n",
       "      <td>0.000020</td>\n",
       "    </tr>\n",
       "    <tr>\n",
       "      <th>249</th>\n",
       "      <td>South Africa</td>\n",
       "      <td>ZAF</td>\n",
       "      <td>Africa</td>\n",
       "      <td>0.45</td>\n",
       "      <td>1.219709e+12</td>\n",
       "      <td>0.000048</td>\n",
       "      <td>199.4</td>\n",
       "      <td>494625956.0</td>\n",
       "      <td>2.0</td>\n",
       "      <td>9.054464e+11</td>\n",
       "      <td>0.000023</td>\n",
       "    </tr>\n",
       "    <tr>\n",
       "      <th>250</th>\n",
       "      <td>Zambia</td>\n",
       "      <td>ZMB</td>\n",
       "      <td>Africa</td>\n",
       "      <td>0.45</td>\n",
       "      <td>7.504916e+11</td>\n",
       "      <td>0.000022</td>\n",
       "      <td>199.4</td>\n",
       "      <td>494625956.0</td>\n",
       "      <td>1.0</td>\n",
       "      <td>7.504916e+11</td>\n",
       "      <td>0.000020</td>\n",
       "    </tr>\n",
       "    <tr>\n",
       "      <th>251</th>\n",
       "      <td>Zimbabwe</td>\n",
       "      <td>ZWE</td>\n",
       "      <td>Africa</td>\n",
       "      <td>0.45</td>\n",
       "      <td>3.906807e+11</td>\n",
       "      <td>0.000039</td>\n",
       "      <td>199.4</td>\n",
       "      <td>494625956.0</td>\n",
       "      <td>1.0</td>\n",
       "      <td>3.906807e+11</td>\n",
       "      <td>0.000020</td>\n",
       "    </tr>\n",
       "  </tbody>\n",
       "</table>\n",
       "<p>396 rows × 11 columns</p>\n",
       "</div>"
      ],
      "text/plain": [
       "     country_name iso3_code continent_name  ohfa_factor  country_area  \\\n",
       "0           Aruba       ABW  North America         0.63  1.819384e+08   \n",
       "1     Afghanistan       AFG           Asia         0.56  6.438580e+11   \n",
       "1     Afghanistan       AFG           Asia         0.56  6.438580e+11   \n",
       "1     Afghanistan       AFG           Asia         0.56  6.438580e+11   \n",
       "2          Angola       AGO         Africa         0.45  1.247422e+12   \n",
       "..            ...       ...            ...          ...           ...   \n",
       "249  South Africa       ZAF         Africa         0.45  1.219709e+12   \n",
       "249  South Africa       ZAF         Africa         0.45  1.219709e+12   \n",
       "249  South Africa       ZAF         Africa         0.45  1.219709e+12   \n",
       "250        Zambia       ZMB         Africa         0.45  7.504916e+11   \n",
       "251      Zimbabwe       ZWE         Africa         0.45  3.906807e+11   \n",
       "\n",
       "     pop_density  emission_factor  building_statistics_fin_2019  climate_zone  \\\n",
       "0       0.000624            199.4                   494625956.0           1.0   \n",
       "1       0.000049            199.4                   494625956.0           3.0   \n",
       "1       0.000049            199.4                   494625956.0           2.0   \n",
       "1       0.000049            199.4                   494625956.0           5.0   \n",
       "2       0.000023            199.4                   494625956.0           1.0   \n",
       "..           ...              ...                           ...           ...   \n",
       "249     0.000048            199.4                   494625956.0           3.0   \n",
       "249     0.000048            199.4                   494625956.0           1.0   \n",
       "249     0.000048            199.4                   494625956.0           2.0   \n",
       "250     0.000022            199.4                   494625956.0           1.0   \n",
       "251     0.000039            199.4                   494625956.0           1.0   \n",
       "\n",
       "          m2_area  heating_demand_factor  \n",
       "0    1.238305e+08               0.000020  \n",
       "1    6.228012e+11               0.000052  \n",
       "1    1.948273e+10               0.000023  \n",
       "1    1.573999e+09               0.000160  \n",
       "2    1.237890e+12               0.000020  \n",
       "..            ...                    ...  \n",
       "249  1.683765e+11               0.000052  \n",
       "249  1.458865e+11               0.000020  \n",
       "249  9.054464e+11               0.000023  \n",
       "250  7.504916e+11               0.000020  \n",
       "251  3.906807e+11               0.000020  \n",
       "\n",
       "[396 rows x 11 columns]"
      ]
     },
     "metadata": {},
     "output_type": "display_data"
    }
   ],
   "source": [
    "data = demand_factor_countries.copy()\n",
    "#show_all(data.sort_values('iso3_code'))\n",
    "display(data)"
   ]
  },
  {
   "cell_type": "code",
   "execution_count": 69,
   "id": "f4dd4c05-7e3f-4205-8397-0c6e83cd47fb",
   "metadata": {},
   "outputs": [
    {
     "name": "stdout",
     "output_type": "stream",
     "text": [
      "\n",
      "Number of NA values in new column estimated_floor_area:\n",
      " 37\n",
      "***\n"
     ]
    }
   ],
   "source": [
    "# Calculate floor area estimates\n",
    "import calculate as calc\n",
    "import numpy as np\n",
    "il.reload(calc)\n",
    "\n",
    "cm = {\n",
    "    'pd_i': 'pop_density',\n",
    "    'ca_i': 'm2_area'\n",
    "}\n",
    "year = 2019\n",
    "ref_iso3_code = 'FIN'\n",
    "rv = {\n",
    "    'fa_r': building_statistics_fin[building_statistics_fin['observation_year'] == year]['gross_floor_area'].values[0],\n",
    "    'ca_r': meta_countries['m2_area'][meta_countries['iso3_code'] == ref_iso3_code].values[0],\n",
    "    'pd_r': meta_countries['pop_density'][meta_countries['iso3_code'] == ref_iso3_code].values[0]\n",
    "}\n",
    "estimated_floor_area = calc.estimate_floor_area(data, cm, rv)\n",
    "print_na(estimated_floor_area, ['estimated_floor_area'], v=v_print_na)"
   ]
  },
  {
   "cell_type": "code",
   "execution_count": 78,
   "id": "5e35c7fc-18a9-479c-9754-604be3624bf9",
   "metadata": {},
   "outputs": [
    {
     "name": "stdout",
     "output_type": "stream",
     "text": [
      "Floor area estimate for reference country: 494409695.1783241\n",
      "Actual floor area for reference country: 494625956.0\n",
      "Estimate error: 0.0004372209324087647\n",
      "*\n",
      "Whole country measured area: 336940111431.491\n",
      "Zone ares sums: 336792794161.805\n",
      "Area measurement error:0.00043722093240889997\n",
      "*\n",
      "Estimate error is large part due to measurement error: True\n",
      "***\n"
     ]
    }
   ],
   "source": [
    "# Check calculation\n",
    "ca_ir = np.sum(data[data['iso3_code'] == ref_iso3_code]['m2_area'])\n",
    "efa_r = np.sum(estimated_floor_area[estimated_floor_area['iso3_code'] == ref_iso3_code]['estimated_floor_area'])\n",
    "ee = (rv['fa_r'] - efa_r) / rv['fa_r']\n",
    "me = (rv['ca_r'] - ca_ir) / rv['ca_r'] \n",
    "print('\\\n",
    "Floor area estimate for reference country: {}\\n\\\n",
    "Actual floor area for reference country: {}\\n\\\n",
    "Estimate error: {}\\n*'.format(efa_r, rv['fa_r'], ee))\n",
    "print('\\\n",
    "Whole country measured area: {}\\n\\\n",
    "Zone ares sums: {}\\n\\\n",
    "Area measurement error:{}\\n*'.format(rv['ca_r'], ca_ir, me))\n",
    "# If the estimation error is the same size as the measurement error, the calculation worked\n",
    "print('Estimate error is large part due to measurement error: {}\\n***'.format(np.isclose(ee, me)))"
   ]
  },
  {
   "cell_type": "code",
   "execution_count": null,
   "id": "f1e4d637-4a68-4f8a-b626-a01f5cb35278",
   "metadata": {},
   "outputs": [],
   "source": [
    "# Calculate emissions estimates"
   ]
  },
  {
   "cell_type": "code",
   "execution_count": null,
   "id": "65a9965a-ae01-4a3c-b6b7-ca6cd5ddd86f",
   "metadata": {},
   "outputs": [],
   "source": [
    "# Aggregate data\n",
    "#data.groupby(['iso3_code'])['climate_zone'].sum()"
   ]
  },
  {
   "cell_type": "code",
   "execution_count": null,
   "id": "e42f3ea3-79ed-4019-823c-6e57f44c6fa3",
   "metadata": {},
   "outputs": [],
   "source": [
    "# Prepare data for publication"
   ]
  }
 ],
 "metadata": {
  "kernelspec": {
   "display_name": "Python 3 (ipykernel)",
   "language": "python",
   "name": "python3"
  },
  "language_info": {
   "codemirror_mode": {
    "name": "ipython",
    "version": 3
   },
   "file_extension": ".py",
   "mimetype": "text/x-python",
   "name": "python",
   "nbconvert_exporter": "python",
   "pygments_lexer": "ipython3",
   "version": "3.9.6"
  }
 },
 "nbformat": 4,
 "nbformat_minor": 5
}
