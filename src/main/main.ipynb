{
 "cells": [
  {
   "cell_type": "code",
   "execution_count": 1,
   "id": "fc54b6cc-1d4c-4dfb-a818-3e7fd67022ba",
   "metadata": {},
   "outputs": [],
   "source": [
    "import pandas as pd\n",
    "import numpy as np\n",
    "from functools import partial\n",
    "import datetime as dt\n",
    "import importlib as il\n",
    "import sys, os\n",
    "src = os.path.abspath(os.path.join('..', '..', 'src'))\n",
    "sys.path.append(src)\n",
    "\n",
    "# project modules\n",
    "import ingest.ingest as ing\n",
    "import modules.aggregate as agg\n",
    "import modules.calculate as calc\n",
    "import modules.assemble as asse\n",
    "from modules.helpers import show_all, print_na"
   ]
  },
  {
   "cell_type": "code",
   "execution_count": 2,
   "id": "3f03c0ef-e11e-4f2b-b654-b2e2e783af6f",
   "metadata": {},
   "outputs": [],
   "source": [
    "# Configurations\n",
    "\n",
    "v_print_na = False # Toggels print rows with na values at each stage of building the dataset\n",
    "quiet_read_in = True # Toggels quiet mode for reading in data to notebook \n",
    "verbose_read_in = False  # Toggels verbose mode for reading in data to notebook\n",
    "data_dir = os.path.join('..', 'ingest', 'data_in') + '/'\n",
    "schema_in_file = os.path.join('..', 'ingest', 'schema.json')\n",
    "# archive timestamp\n",
    "now = dt.datetime.now()\n",
    "month =  now.month if len(str(now.month)) > 2 else str(0) + str(now.month)\n",
    "archival_time = '{}{}{}'.format(now.year, month, now.day)\n",
    "# Unaggregated estimates\n",
    "unaggregated_estimates_file = os.path.join('..', 'data_out/') + archival_time + '_unaggregated_estimates.csv'"
   ]
  },
  {
   "cell_type": "code",
   "execution_count": 3,
   "id": "c04724e2-9880-4d6c-bc67-7d27ec172347",
   "metadata": {},
   "outputs": [],
   "source": [
    "# archive timestamp\n",
    "now = dt.datetime.now()\n",
    "month =  now.month if len(str(now.month)) > 2 else str(0) + str(now.month)\n",
    "archival_time = '{}{}{}'.format(now.year, month, now.day)\n",
    "# Aggregated estimates\n",
    "aggregated_estimates_file = os.path.join('..', 'data_out/') + archival_time + '_aggregated_estimates.csv'"
   ]
  },
  {
   "cell_type": "code",
   "execution_count": 4,
   "id": "869eb5a2-8397-486d-ae61-a28fe6c54d6c",
   "metadata": {},
   "outputs": [],
   "source": [
    "# archive timestamp\n",
    "now = dt.datetime.now()\n",
    "month =  now.month if len(str(now.month)) > 2 else str(0) + str(now.month)\n",
    "archival_time = '{}{}{}'.format(now.year, month, now.day)\n",
    "# Production data\n",
    "prod_data_estimates_file = os.path.join('..', 'data_out/') + archival_time + '_prod_data_estimates.csv'\n",
    "# Note that the following path contains a folder not followed by git, \n",
    "# take care to make sure it exists before running the following line\n",
    "delivery_file_name = os.path.join('..', 'prod_data/') + 'buildings_avoin_' + archival_time + '.csv'"
   ]
  },
  {
   "cell_type": "code",
   "execution_count": 5,
   "id": "d40a27cc-31e1-4ac2-a970-10e032880cbb",
   "metadata": {},
   "outputs": [],
   "source": [
    "ingest = ing.Ingest(schema_in_file)\n",
    "parsed_datasets = ingest.read_and_parse(data_dir, v=verbose_read_in, q=quiet_read_in)"
   ]
  },
  {
   "cell_type": "code",
   "execution_count": 6,
   "id": "5c24d60f-6ea6-4935-bb87-7c52a3976f89",
   "metadata": {},
   "outputs": [
    {
     "name": "stdout",
     "output_type": "stream",
     "text": [
      "Imported datasets:\n",
      " ['areas_countries_data', 'areas_zones_data', 'building_statistics_fin', 'climatetrace_countries', 'countries_data', 'heating_demand_data', 'manual_continents_data', 'ne_countries_continents', 'on_site_heat_data']\n"
     ]
    }
   ],
   "source": [
    "print('Imported datasets:\\n', ingest.ds_names)"
   ]
  },
  {
   "cell_type": "code",
   "execution_count": 7,
   "id": "6b18b79f-4d1b-4fb6-a444-cb9e545b6171",
   "metadata": {},
   "outputs": [],
   "source": [
    "areas_countries_data = parsed_datasets['areas_countries_data']\n",
    "areas_zones_data = parsed_datasets['areas_zones_data']\n",
    "building_statistics_fin = parsed_datasets['building_statistics_fin']\n",
    "climatetrace_countries = parsed_datasets['climatetrace_countries']\n",
    "countries_data = parsed_datasets['countries_data']\n",
    "heating_demand_data = parsed_datasets['heating_demand_data']\n",
    "manual_continents_data = parsed_datasets['manual_continents_data']\n",
    "ne_countries_continents = parsed_datasets['ne_countries_continents']\n",
    "on_site_heat_data = parsed_datasets['on_site_heat_data']"
   ]
  },
  {
   "cell_type": "code",
   "execution_count": 8,
   "id": "12eddbfd-1411-4451-834f-a9160feb6590",
   "metadata": {},
   "outputs": [],
   "source": [
    "# combines continents is a full list of countries codes and continents\n",
    "combined_continents = agg.Aggregate.combine_continents(ne_countries_continents, manual_continents_data, columns=['iso3_code'])\n",
    "# Uncomment the following lines to see the dataset at this stage\n",
    "#combined_continents.info()\n",
    "#show_all(combined_continents.sort_values('iso3_code'))"
   ]
  },
  {
   "cell_type": "code",
   "execution_count": 9,
   "id": "c352647d-f898-4a6b-bb75-97ea9117f3f1",
   "metadata": {},
   "outputs": [
    {
     "name": "stdout",
     "output_type": "stream",
     "text": [
      "Heated floor area factors columns:\n",
      " ['continent_name', 'oheg_factor', 'hfa_factor', 'ohfa_factor']\n",
      "\n",
      "Number of NA values in column ohfa_factor:\n",
      " 0\n",
      "***\n"
     ]
    }
   ],
   "source": [
    "# based on the continent information, heated floor area factors are added\n",
    "print('Heated floor area factors columns:\\n',list(on_site_heat_data.columns))\n",
    "# we are interested in the 'ohfa_factor', that is \"On-site heated floor area factor,\n",
    "# the percentage of non-district heated floor area, product of oheg and hfa\"\n",
    "\n",
    "df = combined_continents\n",
    "other = on_site_heat_data\n",
    "on = 'continent_name'\n",
    "cols = ['ohfa_factor']\n",
    "ohfa_factor_countries = agg.Aggregate.add_cols(df, other, on=on, cols=cols)\n",
    "print_na(ohfa_factor_countries, cols, v=v_print_na)\n",
    "# Uncomment the following lines to see the dataset at this stage\n",
    "#ohfa_factor_countries.info()\n",
    "#show_all(ohfa_factor_countries.sort_values('iso3_code'))"
   ]
  },
  {
   "cell_type": "code",
   "execution_count": 10,
   "id": "2df5a46e-d96e-40e1-97e3-0d68c0d2a888",
   "metadata": {},
   "outputs": [
    {
     "name": "stdout",
     "output_type": "stream",
     "text": [
      "\n",
      "Number of NA values in column continent_name:\n",
      " 3\n",
      "***\n",
      "\n",
      "Number of NA values in column ohfa_factor:\n",
      " 3\n",
      "***\n"
     ]
    }
   ],
   "source": [
    "# The country list is reconciled with the Climate Trace country list\n",
    "df = climatetrace_countries\n",
    "other = ohfa_factor_countries\n",
    "on = 'iso3_code'\n",
    "cols = ['continent_name', 'ohfa_factor']\n",
    "meta_countries = agg.Aggregate.add_cols(df, other, on=on, cols=cols)\n",
    "print_na(meta_countries, cols, v=v_print_na)\n",
    "# Uncomment the following lines to see the dataset at this stage\n",
    "#meta_countries.info()\n",
    "#show_all(meta_countries.sort_values('iso3_code'))"
   ]
  },
  {
   "cell_type": "code",
   "execution_count": 11,
   "id": "e0803518-1c3d-447e-8604-422c12472f9f",
   "metadata": {},
   "outputs": [
    {
     "name": "stdout",
     "output_type": "stream",
     "text": [
      "\n",
      "Number of NA values in column m2_area:\n",
      " 4\n",
      "***\n"
     ]
    }
   ],
   "source": [
    "# Country metadata is added: country area (m2_area),\n",
    "\n",
    "df = meta_countries\n",
    "other = areas_countries_data\n",
    "on = 'iso3_code'\n",
    "cols = ['m2_area']\n",
    "meta_countries = agg.Aggregate.add_cols(df, other, on=on, cols=cols)\n",
    "print_na(meta_countries, cols, v=v_print_na)\n",
    "# Uncomment the following lines to see the dataset at this stage\n",
    "#meta_countries.info()\n",
    "#show_all(meta_countries.sort_values('iso3_code'))"
   ]
  },
  {
   "cell_type": "code",
   "execution_count": 12,
   "id": "610a9ee5-da1a-452e-9185-d8dd4976e412",
   "metadata": {},
   "outputs": [
    {
     "name": "stdout",
     "output_type": "stream",
     "text": [
      "\n",
      "Number of NA values in column pop_density:\n",
      " 3\n",
      "***\n",
      "\n",
      "Number of NA values in column emission_factor:\n",
      " 3\n",
      "***\n"
     ]
    }
   ],
   "source": [
    "# Country metadata is added:\n",
    "# population density (pop_density) \n",
    "# and emission factors (emission_factor): Emission factor in tonnes CO2 per GWh\n",
    "\n",
    "df = meta_countries\n",
    "other = countries_data\n",
    "on = 'iso3_code'\n",
    "cols = ['pop_density', 'emission_factor']\n",
    "meta_countries = agg.Aggregate.add_cols(df, other, on=on, cols=cols)\n",
    "print_na(meta_countries, cols, v=v_print_na)\n",
    "# Uncomment the following lines to see the dataset at this stage\n",
    "#meta_countries.info()\n",
    "#show_all(meta_countries.sort_values('iso3_code'))"
   ]
  },
  {
   "cell_type": "code",
   "execution_count": 13,
   "id": "35f4ac66-6ef5-45c9-9bc8-307323b10c5b",
   "metadata": {},
   "outputs": [
    {
     "name": "stdout",
     "output_type": "stream",
     "text": [
      "\n",
      "Number of NA values in column climate_zone:\n",
      " 37\n",
      "***\n",
      "\n",
      "Number of NA values in column m2_area:\n",
      " 37\n",
      "***\n"
     ]
    }
   ],
   "source": [
    "# Climate zone areas are added\n",
    "\n",
    "df = meta_countries.rename(columns={'m2_area': 'country_area'})\n",
    "other = areas_zones_data\n",
    "on = 'iso3_code'\n",
    "cols = ['climate_zone', 'm2_area']\n",
    "zoned_countries = agg.Aggregate.add_cols(df, other, on=on, cols=cols)\n",
    "print_na(zoned_countries, cols, v=v_print_na)\n",
    "# Uncomment the following lines to see the dataset at this stage\n",
    "#zoned_countries.info()\n",
    "#show_all(zoned_countries.sort_values('iso3_code'))"
   ]
  },
  {
   "cell_type": "code",
   "execution_count": 14,
   "id": "33e532c7-45eb-49e7-93c9-0f463a4302bd",
   "metadata": {},
   "outputs": [
    {
     "name": "stdout",
     "output_type": "stream",
     "text": [
      "\n",
      "Number of NA values in column heating_demand_factor:\n",
      " 37\n",
      "***\n"
     ]
    }
   ],
   "source": [
    "# Heating demand data is added based on climate zones\n",
    "\n",
    "df = zoned_countries\n",
    "other = heating_demand_data\n",
    "on = 'climate_zone'\n",
    "cols = ['heating_demand_factor']\n",
    "demand_factor_countries = agg.Aggregate.add_cols(df, other, on=on, cols=cols)\n",
    "print_na(demand_factor_countries, cols, v=v_print_na)\n",
    "# Uncomment the following lines to see the dataset at this stage\n",
    "#demand_factor_countries.info()\n",
    "#show_all(demand_factor_countries.sort_values('iso3_code'))"
   ]
  },
  {
   "cell_type": "code",
   "execution_count": 15,
   "id": "3fe3a7c5-3543-4652-9678-fa905e9f6cd3",
   "metadata": {},
   "outputs": [
    {
     "name": "stdout",
     "output_type": "stream",
     "text": [
      "\n",
      "Number of NA values in column estimated_floor_area:\n",
      " 37\n",
      "***\n"
     ]
    }
   ],
   "source": [
    "data = demand_factor_countries.copy()\n",
    "# column map\n",
    "cm = {\n",
    "    'pd_i': 'pop_density',\n",
    "    'ca_i': 'm2_area'\n",
    "}\n",
    "year = 2019\n",
    "ref_iso3_code = 'FIN'\n",
    "# reference values\n",
    "rv = {\n",
    "    'fa_r': building_statistics_fin[building_statistics_fin['observation_year'] == year]['gross_floor_area'].values[0],\n",
    "    'ca_r': meta_countries['m2_area'][meta_countries['iso3_code'] == ref_iso3_code].values[0],\n",
    "    'pd_r': meta_countries['pop_density'][meta_countries['iso3_code'] == ref_iso3_code].values[0]\n",
    "}\n",
    "estimated_floor_area = calc.estimate_floor_area(data, cm, rv)\n",
    "print_na(estimated_floor_area, ['estimated_floor_area'], v=v_print_na)"
   ]
  },
  {
   "cell_type": "code",
   "execution_count": 16,
   "id": "4d580131-363b-4d5e-bfff-0095d328a0a0",
   "metadata": {},
   "outputs": [
    {
     "name": "stdout",
     "output_type": "stream",
     "text": [
      "Floor area estimate for reference country: 494409695.1783241\n",
      "Actual floor area for reference country: 494625956.0\n",
      "Estimate error: 0.0004372209324087647\n",
      "*\n",
      "Whole country measured area: 336940111431.491\n",
      "Zone ares sums: 336792794161.805\n",
      "Area measurement error:0.00043722093240889997\n",
      "*\n",
      "Estimate error is large part due to measurement error: True\n",
      "***\n"
     ]
    }
   ],
   "source": [
    "# Check calculation\n",
    "ca_ir = np.sum(data[data['iso3_code'] == ref_iso3_code]['m2_area'])\n",
    "efa_r = np.sum(estimated_floor_area[estimated_floor_area['iso3_code'] == ref_iso3_code]['estimated_floor_area'])\n",
    "ee = (rv['fa_r'] - efa_r) / rv['fa_r']\n",
    "me = (rv['ca_r'] - ca_ir) / rv['ca_r'] \n",
    "print('\\\n",
    "Floor area estimate for reference country: {}\\n\\\n",
    "Actual floor area for reference country: {}\\n\\\n",
    "Estimate error: {}\\n*'.format(efa_r, rv['fa_r'], ee))\n",
    "print('\\\n",
    "Whole country measured area: {}\\n\\\n",
    "Zone ares sums: {}\\n\\\n",
    "Area measurement error:{}\\n*'.format(rv['ca_r'], ca_ir, me))\n",
    "# If the estimation error is the same size as the measurement error, the calculation worked\n",
    "print('Estimate error is large part due to measurement error: {}\\n***'.format(np.isclose(ee, me)))"
   ]
  },
  {
   "cell_type": "code",
   "execution_count": 17,
   "id": "ebe6c5bb-6681-4d1e-8734-9fc41d2bbea8",
   "metadata": {},
   "outputs": [
    {
     "name": "stdout",
     "output_type": "stream",
     "text": [
      "\n",
      "Number of NA values in column estimated_heat_demand:\n",
      " 37\n",
      "***\n"
     ]
    }
   ],
   "source": [
    "# Calculate emissions estimates\n",
    "il.reload(calc)\n",
    "data = estimated_floor_area.copy()\n",
    "# column map\n",
    "cm = {\n",
    "    'area': 'estimated_floor_area',\n",
    "    'heating_demand_factor': 'heating_demand_factor',\n",
    "}\n",
    "estimated_heat_demand = calc.calculate_heat_demand(data, cm)\n",
    "print_na(estimated_heat_demand, ['estimated_heat_demand'], v=v_print_na)"
   ]
  },
  {
   "cell_type": "code",
   "execution_count": 18,
   "id": "f1e4d637-4a68-4f8a-b626-a01f5cb35278",
   "metadata": {},
   "outputs": [
    {
     "name": "stdout",
     "output_type": "stream",
     "text": [
      "\n",
      "Number of NA values in column estimated_emissions:\n",
      " 37\n",
      "***\n"
     ]
    }
   ],
   "source": [
    "# Calculate emissions estimates\n",
    "il.reload(calc)\n",
    "data = estimated_heat_demand.copy()\n",
    "# column map\n",
    "cm = {\n",
    "    'area': 'estimated_floor_area',\n",
    "    'ohfa': 'ohfa_factor',\n",
    "    'heating_demand': 'heating_demand_factor',\n",
    "    'emission': 'emission_factor',\n",
    "}\n",
    "estimated_emissions = calc.calculate_emissions(data, cm)\n",
    "print_na(estimated_emissions, ['estimated_emissions'], v=v_print_na)"
   ]
  },
  {
   "cell_type": "code",
   "execution_count": 19,
   "id": "76e4f6eb-c0e4-4ef0-b8f8-f4f4b201c718",
   "metadata": {},
   "outputs": [],
   "source": [
    "unaggregated = estimated_emissions.copy()\n",
    "# Uncomment the following 3 lsine to see info about the unaggregated dataset\n",
    "#display(unaggregated)\n",
    "#unaggregated.info()\n",
    "#print_na(unaggregated, unaggregated.columns, v=v_print_na)\n",
    "# Uncomment the following line to save the unaggregated dataset\n",
    "#unaggregated.to_csv(unaggregated_estimates_file)"
   ]
  },
  {
   "cell_type": "code",
   "execution_count": 20,
   "id": "7d81c7fc-087f-416a-a6c5-9d153a4a9581",
   "metadata": {},
   "outputs": [],
   "source": [
    "index = 'iso3_code'\n",
    "cols = ['estimated_floor_area', 'estimated_heat_demand', 'estimated_emissions']\n",
    "s_na_sum = partial(pd.Series.sum, skipna = False)\n",
    "aggregated = asse.reduce_cols(unaggregated, index, cols, s_na_sum)\n",
    "# Uncomment the following 3 lsine to see info about the aggregated dataset\n",
    "#display(aggregated)\n",
    "#aggregated.info()\n",
    "#print_na(aggregated, aggregated.columns, v=v_print_na)\n",
    "# Uncomment the following line to save the aggregated dataset\n",
    "#aggregated.to_csv(aggregated_estimates_file)"
   ]
  },
  {
   "cell_type": "code",
   "execution_count": 21,
   "id": "e42f3ea3-79ed-4019-823c-6e57f44c6fa3",
   "metadata": {},
   "outputs": [],
   "source": [
    "# Prepare data for publication\n",
    "# rename columns\n",
    "cm = {'iso3_code': 'iso3_country', 'total_estimated_emissions': 'tCO2eq'}\n",
    "prod_data = aggregated.copy()\n",
    "prod_data = prod_data.rename(columns=cm)\n",
    "# add columns begin_date, end_date\n",
    "# 2019-01-01,2019-12-31\n",
    "add_dates = {'begin_date': '2019-01-01', 'end_date': '2019-12-31'}\n",
    "for key in add_dates.keys():\n",
    "    col = [add_dates[key] for n in range(len(prod_data))]\n",
    "    prod_data[key] = col\n",
    "# remove extra columns\n",
    "drop_cols = ['total_estimated_floor_area', 'total_estimated_heat_demand']\n",
    "prod_data = prod_data.drop(columns=drop_cols)\n",
    "# Uncomment the following 3 lsine to see info about the prod_data dataset\n",
    "#display(prod_data)\n",
    "#prod_data.info()\n",
    "#print_na(prod_data, prod_data.columns, v=v_print_na)\n",
    "# Uncomment the following line to save the prod_data dataset\n",
    "#prod_data.to_csv(prod_data_estimates_file)\n",
    "# File name for delivery\n",
    "#prod_data.to_csv(delivery_file_name)"
   ]
  }
 ],
 "metadata": {
  "kernelspec": {
   "display_name": "Python 3 (ipykernel)",
   "language": "python",
   "name": "python3"
  },
  "language_info": {
   "codemirror_mode": {
    "name": "ipython",
    "version": 3
   },
   "file_extension": ".py",
   "mimetype": "text/x-python",
   "name": "python",
   "nbconvert_exporter": "python",
   "pygments_lexer": "ipython3",
   "version": "3.9.6"
  }
 },
 "nbformat": 4,
 "nbformat_minor": 5
}
